{
 "cells": [
  {
   "cell_type": "code",
   "execution_count": 147,
   "metadata": {},
   "outputs": [],
   "source": [
    "import polars as pl\n",
    "import pandas as pd"
   ]
  },
  {
   "cell_type": "code",
   "execution_count": 148,
   "metadata": {},
   "outputs": [],
   "source": [
    "import FileReader\n",
    "\n",
    "df, ml19, ml20 = FileReader.put_all_xmls_into_one_df(r\"C:\\Users\\I569776\\Desktop\\uni\\NLP\\speech-202\")"
   ]
  },
  {
   "cell_type": "code",
   "execution_count": 149,
   "metadata": {},
   "outputs": [],
   "source": [
    "politiker_partei = {\n",
    "'Bettina Jarasch': 'BÜNDNIS\\xa090/DIEGRÜNEN',\n",
    "'Klaus Holetschek': 'CDU/CSU',\n",
    "'Mehmet Daimagüler': 'FDP',\n",
    "'Bodo Ramelow': 'DIE LINKE',\n",
    "'Reem Alabali-Radovan': 'SPD',\n",
    "'Jan-Niclas Gesenhues': 'BÜNDNIS\\xa090/DIEGRÜNEN',\n",
    "'Christian Lindner': 'FDP',\n",
    "'Bettina Stark-Watzinger': 'FDP',\n",
    "'Judith Gerlach': 'CDU/CSU',\n",
    "'Sven Schulze': 'CDU/CSU',\n",
    "'Anna Lührmann': 'BÜNDNIS\\xa090/DIEGRÜNEN',\n",
    "'Johann Saathoff': 'SPD',\n",
    "'Luise Amtsberg': 'BÜNDNIS\\xa090/DIEGRÜNEN',\n",
    "'Claudia Roth': 'BÜNDNIS\\xa090/DIEGRÜNEN',\n",
    "'Alexander Schweitzer': 'SPD',\n",
    "'Thomas Hitschler': 'SPD',\n",
    "'Ekin Deligöz': 'BÜNDNIS\\xa090/DIEGRÜNEN',\n",
    "'Ophelia Nick': 'BÜNDNIS\\xa090/DIEGRÜNEN',\n",
    "'Boris Rhein': 'CDU/CSU',\n",
    "'Anna Christmann': 'BÜNDNIS\\xa090/DIEGRÜNEN',\n",
    "'Katja Keul': 'BÜNDNIS\\xa090/DIEGRÜNEN',\n",
    "'Jens Brandenburg': 'FDP',\n",
    "'Katja Hessel': 'FDP',\n",
    "'Burkhard Blienert': 'SPD',\n",
    "'Pascal Kober': 'FDP',\n",
    "'Franziska Brantner': 'BÜNDNIS\\xa090/DIEGRÜNEN',\n",
    "'Sabine Dittmar': 'SPD',\n",
    "'Markus Söder': 'CDU/CSU',\n",
    "'Robert Habeck': 'BÜNDNIS\\xa090/DIEGRÜNEN',\n",
    "'Daniela Kluckert': 'FDP',\n",
    "'Tobias Lindner': 'BÜNDNIS\\xa090/DIEGRÜNEN',\n",
    "'Christian Kühn': 'BÜNDNIS\\xa090/DIEGRÜNEN',\n",
    "'Carsten Schneider': 'SPD',\n",
    "'Boris Pistorius': 'SPD',\n",
    "'Stephan Weil': 'SPD',\n",
    "'Christian Pegel': 'SPD',\n",
    "'Wolfgang Schmidt': 'SPD',\n",
    "'Florian Toncar': 'FDP',\n",
    "'Anne Spiegel': 'BÜNDNIS\\xa090/DIEGRÜNEN',\n",
    "'Jörg Kukies': 'SPD',\n",
    "'Annalena Baerbock': 'BÜNDNIS\\xa090/DIEGRÜNEN',\n",
    "'Sven Lehmann': 'BÜNDNIS\\xa090/DIEGRÜNEN',\n",
    "'Steffi Lemke': 'BÜNDNIS\\xa090/DIEGRÜNEN',\n",
    "'Dieter Janecek': 'BÜNDNIS\\xa090/DIEGRÜNEN',\n",
    "'Michael Theurer': 'FDP',\n",
    "'Kristina Sinemus': 'CDU/CSU',\n",
    "'Natalie Pawlik': 'SPD',\n",
    "'Ingmar Jung': 'CDU/CSU',\n",
    "'Karl-Josef Laumann': 'CDU/CSU',\n",
    "'Sören Bartol': 'SPD',\n",
    "'Elisabeth Kaiser': 'SPD',\n",
    "'Mario Brandenburg': 'FDP',\n",
    "'Dirk-Ulrich Mende': 'SPD',\n",
    "'Lena Kreck': 'DIE LINKE',\n",
    "'Katja Kipping': 'DIE LINKE',\n",
    "'Bettina Hoffmann': 'BÜNDNIS\\xa090/DIEGRÜNEN',\n",
    "'Nancy Faeser': 'SPD',\n",
    "'Lisa Paus': 'BÜNDNIS\\xa090/DIEGRÜNEN',\n",
    "'Mahmut Özdemir': 'SPD',\n",
    "'Jörg Steinbach': 'SPD',\n",
    "'Claudia Müller': 'BÜNDNIS\\xa090/DIEGRÜNEN',\n",
    "'Bärbel Kofler': 'SPD',\n",
    "'Cansel Kiziltepe': 'SPD',\n",
    "'Klara Geywitz': 'SPD',\n",
    "'Michael Kellner': 'BÜNDNIS\\xa090/DIEGRÜNEN',\n",
    "'Uli Grötsch': 'SPD',\n",
    "'Armin Schuster': 'CDU/CSU',\n",
    "'Cem Özdemir': 'BÜNDNIS\\xa090/DIEGRÜNEN',\n",
    "'Oliver Luksic': 'FDP',\n",
    "'Roman Poseck': 'CDU/CSU',\n",
    "'Reiner Haseloff': 'CDU/CSU',\n",
    "'Daniela Behrens': 'SPD',\n",
    "'Benjamin Strasser': 'FDP',\n",
    "'Anke Rehlinger': 'SPD',\n",
    "'Dietmar Woidke': 'SPD',\n",
    "'Edgar Franke': 'SPD',\n",
    "'Marion Gentges': 'CDU/CSU',\n",
    "'Siemtje Möller': 'SPD',\n",
    "'Andreas Bovenschulte': 'SPD',\n",
    "'Thomas Strobl': 'CDU/CSU',\n",
    "'Peter Beuth': 'CDU/CSU',\n",
    "'Felor Badenberg': 'Fraktionslos',\n",
    "'Oliver Krischer': 'BÜNDNIS\\xa090/DIEGRÜNEN',\n",
    "'Thomas Schmidt': 'CDU/CSU',\n",
    "'Sarah Ryglewski': 'SPD',\n",
    "'Marco Buschmann': 'FDP',\n",
    "'Karl Lauterbach': 'SPD',\n",
    "'Volker Wissing': 'FDP',\n",
    "'Annette Widmann-Mauz': 'CDU/CSU',\n",
    "    'Heiko Maas': 'SPD',\n",
    "    'Florian Pronold': 'SPD',\n",
    "    'Dorothee Bär': 'CDU/CSU',\n",
    "    'Steffen Bilger': 'CDU/CSU',\n",
    "    'Niels Annen': 'SPD',\n",
    "    'Thomas Bareiß': 'CDU/CSU',\n",
    "    'Felix Klein': 'CDU/CSU',\n",
    "    'Thomas Silberhorn': 'CDU/CSU',\n",
    "    'Peter Tauber': 'CDU/CSU',\n",
    "    'Andreas Scheuer': 'CDU/CSU',\n",
    "    'Peter Tschentscher': 'SPD',\n",
    "    'Julia Klöckner': 'CDU/CSU',\n",
    "    'Monika Grütters': 'CDU/CSU',\n",
    "    'Gerd Müller': 'CDU/CSU',\n",
    "    'Dirk-Ulrich Mende': 'SPD',\n",
    "    'Lena Kreck': 'parteilos',\n",
    "    'Rita Schwarzelühr-Sutter': 'SPD',\n",
    "    'Christine Lambrecht': 'SPD',\n",
    "    'Enak Ferlemann': 'CDU/CSU',\n",
    "    'Horst Seehofer': 'CDU/CSU',\n",
    "    'Annegret Kramp-Karrenbauer': 'CDU/CSU',\n",
    "    'Maria Flachsbarth': 'CDU/CSU',\n",
    "    'Anja Karliczek': 'CDU/CSU',\n",
    "    'Andreas Pinkwart': 'FDP',\n",
    "    'Kerstin Griese': 'SPD',\n",
    "    'Franziska Giffey': 'SPD',\n",
    "    'Michael Müller': 'SPD',\n",
    "    'Michael Roth': 'SPD',\n",
    "    'Günter Krings': 'CDU/CSU',\n",
    "    'Hubertus Heil': 'SPD',\n",
    "    'Michelle Müntefering': 'SPD',\n",
    "    'Elisabeth Winkelmeier-Becker': 'CDU/CSU',\n",
    "    'Peter Altmaier': 'CDU/CSU',\n",
    "    'Jens Spahn': 'CDU/CSU',\n",
    "    'Malu Dreyer': 'SPD',\n",
    "    'Svenja Schulze': 'SPD',\n",
    "    'Stephan Mayer': 'CDU/CSU',\n",
    "    'Eva Högl': 'SPD',\n",
    "    'Bettina Hagedorn': 'SPD',\n",
    "    'Anette Kramme': 'SPD',\n",
    "    'Thomas Gebhart': 'CDU/CSU',\n",
    "    'Christian Lange': 'SPD',\n",
    "    'Armin Laschet': 'CDU/CSU',\n",
    "    'Joachim Stamp': 'FDP',\n",
    "    'Olaf Scholz': 'SPD',\n",
    "    'Helge Braun': 'CDU/CSU',\n",
    "    'Angela Merkel': 'CDU/CSU',\n",
    "    'Caren Marks': 'SPD',\n",
    "    'Rita Hagl-Kehl': 'SPD'\n",
    "}"
   ]
  },
  {
   "cell_type": "code",
   "execution_count": 150,
   "metadata": {},
   "outputs": [],
   "source": [
    "df2 = pl.read_parquet(r\"C:\\Users\\I569776\\Desktop\\uni\\NLP\\bundestags_daten.parquet\")"
   ]
  },
  {
   "cell_type": "code",
   "execution_count": 151,
   "metadata": {},
   "outputs": [
    {
     "data": {
      "text/html": [
       "<div><style>\n",
       ".dataframe > thead > tr,\n",
       ".dataframe > tbody > tr {\n",
       "  text-align: right;\n",
       "  white-space: pre-wrap;\n",
       "}\n",
       "</style>\n",
       "<small>shape: (374_076, 6)</small><table border=\"1\" class=\"dataframe\"><thead><tr><th>firstName</th><th>lastName</th><th>speechContent</th><th>date</th><th>abbreviation</th><th>full_name</th></tr><tr><td>str</td><td>str</td><td>str</td><td>str</td><td>str</td><td>str</td></tr></thead><tbody><tr><td>null</td><td>&quot;adenauer&quot;</td><td>&quot;Ja.\n",
       "&quot;</td><td>&quot;1949-09-15&quot;</td><td>&quot;CDU/CSU&quot;</td><td>&quot;Christlich Demokratische Union…</td></tr><tr><td>null</td><td>&quot;blücher&quot;</td><td>&quot;Herr Präsident, meine Damen un…</td><td>&quot;1949-09-15&quot;</td><td>&quot;FDP&quot;</td><td>&quot;Freie Demokratische Partei&quot;</td></tr><tr><td>null</td><td>&quot;schmid&quot;</td><td>&quot;Meine Damen und Herren, ich ha…</td><td>&quot;1949-09-15&quot;</td><td>&quot;SPD&quot;</td><td>&quot;Sozialdemokratische Partei Deu…</td></tr><tr><td>null</td><td>&quot;renner&quot;</td><td>&quot;Meine Damen und Herren! In der…</td><td>&quot;1949-09-15&quot;</td><td>&quot;KPD&quot;</td><td>&quot;Kommunistische Partei Deutschl…</td></tr><tr><td>null</td><td>&quot;renner&quot;</td><td>&quot;Ich habe wohl das Recht, auf d…</td><td>&quot;1949-09-15&quot;</td><td>&quot;KPD&quot;</td><td>&quot;Kommunistische Partei Deutschl…</td></tr><tr><td>&hellip;</td><td>&hellip;</td><td>&hellip;</td><td>&hellip;</td><td>&hellip;</td><td>&hellip;</td></tr><tr><td>&quot;Helge&quot;</td><td>&quot;Lindh&quot;</td><td>&quot;\n",
       "\n",
       "Frau Präsidentin! Liebe Koll…</td><td>&quot;2021-05-07&quot;</td><td>&quot;SPD&quot;</td><td>&quot;Sozialdemokratische Partei Deu…</td></tr><tr><td>&quot;Helge&quot;</td><td>&quot;Lindh&quot;</td><td>&quot;\n",
       "\n",
       "– weise ich mal darauf hin, …</td><td>&quot;2021-05-07&quot;</td><td>&quot;SPD&quot;</td><td>&quot;Sozialdemokratische Partei Deu…</td></tr><tr><td>&quot;Helge&quot;</td><td>&quot;Lindh&quot;</td><td>&quot;\n",
       "\n",
       "Wie bitte?&quot;</td><td>&quot;2021-05-07&quot;</td><td>&quot;SPD&quot;</td><td>&quot;Sozialdemokratische Partei Deu…</td></tr><tr><td>&quot;Helge&quot;</td><td>&quot;Lindh&quot;</td><td>&quot;\n",
       "\n",
       "Gut, ich beschränke mich auf…</td><td>&quot;2021-05-07&quot;</td><td>&quot;SPD&quot;</td><td>&quot;Sozialdemokratische Partei Deu…</td></tr><tr><td>&quot;Tankred&quot;</td><td>&quot;Schipanski&quot;</td><td>&quot;\n",
       "\n",
       "Vielen Dank. – Frau Präsiden…</td><td>&quot;2021-05-07&quot;</td><td>&quot;CDU/CSU&quot;</td><td>&quot;Christlich Demokratische Union…</td></tr></tbody></table></div>"
      ],
      "text/plain": [
       "shape: (374_076, 6)\n",
       "┌───────────┬────────────┬──────────────────────┬────────────┬──────────────┬──────────────────────┐\n",
       "│ firstName ┆ lastName   ┆ speechContent        ┆ date       ┆ abbreviation ┆ full_name            │\n",
       "│ ---       ┆ ---        ┆ ---                  ┆ ---        ┆ ---          ┆ ---                  │\n",
       "│ str       ┆ str        ┆ str                  ┆ str        ┆ str          ┆ str                  │\n",
       "╞═══════════╪════════════╪══════════════════════╪════════════╪══════════════╪══════════════════════╡\n",
       "│ null      ┆ adenauer   ┆ Ja.                  ┆ 1949-09-15 ┆ CDU/CSU      ┆ Christlich           │\n",
       "│           ┆            ┆                      ┆            ┆              ┆ Demokratische Union… │\n",
       "│ null      ┆ blücher    ┆ Herr Präsident,      ┆ 1949-09-15 ┆ FDP          ┆ Freie Demokratische  │\n",
       "│           ┆            ┆ meine Damen un…      ┆            ┆              ┆ Partei               │\n",
       "│ null      ┆ schmid     ┆ Meine Damen und      ┆ 1949-09-15 ┆ SPD          ┆ Sozialdemokratische  │\n",
       "│           ┆            ┆ Herren, ich ha…      ┆            ┆              ┆ Partei Deu…          │\n",
       "│ null      ┆ renner     ┆ Meine Damen und      ┆ 1949-09-15 ┆ KPD          ┆ Kommunistische       │\n",
       "│           ┆            ┆ Herren! In der…      ┆            ┆              ┆ Partei Deutschl…     │\n",
       "│ null      ┆ renner     ┆ Ich habe wohl das    ┆ 1949-09-15 ┆ KPD          ┆ Kommunistische       │\n",
       "│           ┆            ┆ Recht, auf d…        ┆            ┆              ┆ Partei Deutschl…     │\n",
       "│ …         ┆ …          ┆ …                    ┆ …          ┆ …            ┆ …                    │\n",
       "│ Helge     ┆ Lindh      ┆                      ┆ 2021-05-07 ┆ SPD          ┆ Sozialdemokratische  │\n",
       "│           ┆            ┆                      ┆            ┆              ┆ Partei Deu…          │\n",
       "│           ┆            ┆ Frau Präsidentin!    ┆            ┆              ┆                      │\n",
       "│           ┆            ┆ Liebe Koll…          ┆            ┆              ┆                      │\n",
       "│ Helge     ┆ Lindh      ┆                      ┆ 2021-05-07 ┆ SPD          ┆ Sozialdemokratische  │\n",
       "│           ┆            ┆                      ┆            ┆              ┆ Partei Deu…          │\n",
       "│           ┆            ┆ – weise ich mal      ┆            ┆              ┆                      │\n",
       "│           ┆            ┆ darauf hin, …        ┆            ┆              ┆                      │\n",
       "│ Helge     ┆ Lindh      ┆                      ┆ 2021-05-07 ┆ SPD          ┆ Sozialdemokratische  │\n",
       "│           ┆            ┆                      ┆            ┆              ┆ Partei Deu…          │\n",
       "│           ┆            ┆ Wie bitte?           ┆            ┆              ┆                      │\n",
       "│ Helge     ┆ Lindh      ┆                      ┆ 2021-05-07 ┆ SPD          ┆ Sozialdemokratische  │\n",
       "│           ┆            ┆                      ┆            ┆              ┆ Partei Deu…          │\n",
       "│           ┆            ┆ Gut, ich beschränke  ┆            ┆              ┆                      │\n",
       "│           ┆            ┆ mich auf…            ┆            ┆              ┆                      │\n",
       "│ Tankred   ┆ Schipanski ┆                      ┆ 2021-05-07 ┆ CDU/CSU      ┆ Christlich           │\n",
       "│           ┆            ┆                      ┆            ┆              ┆ Demokratische Union… │\n",
       "│           ┆            ┆ Vielen Dank. – Frau  ┆            ┆              ┆                      │\n",
       "│           ┆            ┆ Präsiden…            ┆            ┆              ┆                      │\n",
       "└───────────┴────────────┴──────────────────────┴────────────┴──────────────┴──────────────────────┘"
      ]
     },
     "execution_count": 151,
     "metadata": {},
     "output_type": "execute_result"
    }
   ],
   "source": [
    "df2"
   ]
  },
  {
   "cell_type": "code",
   "execution_count": 152,
   "metadata": {},
   "outputs": [],
   "source": [
    "df = df.drop([\"WahlperiodenNr\", \"SitzungsNr\", \"Titel\", \"Kommentare\"])"
   ]
  },
  {
   "cell_type": "code",
   "execution_count": 153,
   "metadata": {},
   "outputs": [],
   "source": [
    "df_pd = df.to_pandas()"
   ]
  },
  {
   "cell_type": "code",
   "execution_count": 154,
   "metadata": {},
   "outputs": [
    {
     "name": "stderr",
     "output_type": "stream",
     "text": [
      "C:\\Users\\I569776\\AppData\\Local\\Temp\\ipykernel_36176\\1691566582.py:2: SettingWithCopyWarning: \n",
      "A value is trying to be set on a copy of a slice from a DataFrame.\n",
      "Try using .loc[row_indexer,col_indexer] = value instead\n",
      "\n",
      "See the caveats in the documentation: https://pandas.pydata.org/pandas-docs/stable/user_guide/indexing.html#returning-a-view-versus-a-copy\n",
      "  df_temp[\"Vorname\"] = \"Lena\"\n",
      "C:\\Users\\I569776\\AppData\\Local\\Temp\\ipykernel_36176\\1691566582.py:3: SettingWithCopyWarning: \n",
      "A value is trying to be set on a copy of a slice from a DataFrame.\n",
      "Try using .loc[row_indexer,col_indexer] = value instead\n",
      "\n",
      "See the caveats in the documentation: https://pandas.pydata.org/pandas-docs/stable/user_guide/indexing.html#returning-a-view-versus-a-copy\n",
      "  df_temp[\"Nachname\"] = \"Kreck\"\n",
      "C:\\Users\\I569776\\AppData\\Local\\Temp\\ipykernel_36176\\1691566582.py:4: SettingWithCopyWarning: \n",
      "A value is trying to be set on a copy of a slice from a DataFrame.\n",
      "Try using .loc[row_indexer,col_indexer] = value instead\n",
      "\n",
      "See the caveats in the documentation: https://pandas.pydata.org/pandas-docs/stable/user_guide/indexing.html#returning-a-view-versus-a-copy\n",
      "  df_temp[\"Fraktion\"] = \"DIE LINKE\"\n"
     ]
    },
    {
     "data": {
      "text/html": [
       "<div>\n",
       "<style scoped>\n",
       "    .dataframe tbody tr th:only-of-type {\n",
       "        vertical-align: middle;\n",
       "    }\n",
       "\n",
       "    .dataframe tbody tr th {\n",
       "        vertical-align: top;\n",
       "    }\n",
       "\n",
       "    .dataframe thead th {\n",
       "        text-align: right;\n",
       "    }\n",
       "</style>\n",
       "<table border=\"1\" class=\"dataframe\">\n",
       "  <thead>\n",
       "    <tr style=\"text-align: right;\">\n",
       "      <th></th>\n",
       "      <th>Datum</th>\n",
       "      <th>Fraktion</th>\n",
       "      <th>Vorname</th>\n",
       "      <th>Nachname</th>\n",
       "      <th>Rede</th>\n",
       "    </tr>\n",
       "  </thead>\n",
       "  <tbody>\n",
       "    <tr>\n",
       "      <th>14320</th>\n",
       "      <td>26.01.2023</td>\n",
       "      <td>DIE LINKE</td>\n",
       "      <td>Lena</td>\n",
       "      <td>Kreck</td>\n",
       "      <td>\\n\\t\\t\\t\\t\\tVielen herzlichen Dank. – Herr Prä...</td>\n",
       "    </tr>\n",
       "  </tbody>\n",
       "</table>\n",
       "</div>"
      ],
      "text/plain": [
       "            Datum   Fraktion Vorname Nachname  \\\n",
       "14320  26.01.2023  DIE LINKE    Lena    Kreck   \n",
       "\n",
       "                                                    Rede  \n",
       "14320  \\n\\t\\t\\t\\t\\tVielen herzlichen Dank. – Herr Prä...  "
      ]
     },
     "execution_count": 154,
     "metadata": {},
     "output_type": "execute_result"
    }
   ],
   "source": [
    "df_temp = df_pd.loc[df_pd[\"Vorname\"] == \"Dirk-UlrichLena\"]\n",
    "df_temp[\"Vorname\"] = \"Lena\"\n",
    "df_temp[\"Nachname\"] = \"Kreck\"\n",
    "df_temp[\"Fraktion\"] = \"DIE LINKE\"\n",
    "df_pd = df_pd.loc[df_pd[\"Vorname\"] != \"Dirk-UlrichLena\"]\n",
    "df_pd = pd.concat([df_pd, df_temp])\n",
    "df_temp"
   ]
  },
  {
   "cell_type": "code",
   "execution_count": 155,
   "metadata": {},
   "outputs": [
    {
     "name": "stderr",
     "output_type": "stream",
     "text": [
      "C:\\Users\\I569776\\AppData\\Local\\Temp\\ipykernel_36176\\828728270.py:2: SettingWithCopyWarning: \n",
      "A value is trying to be set on a copy of a slice from a DataFrame.\n",
      "Try using .loc[row_indexer,col_indexer] = value instead\n",
      "\n",
      "See the caveats in the documentation: https://pandas.pydata.org/pandas-docs/stable/user_guide/indexing.html#returning-a-view-versus-a-copy\n",
      "  df_temp[\"Vorname\"] = \"Alexander\"\n",
      "C:\\Users\\I569776\\AppData\\Local\\Temp\\ipykernel_36176\\828728270.py:3: SettingWithCopyWarning: \n",
      "A value is trying to be set on a copy of a slice from a DataFrame.\n",
      "Try using .loc[row_indexer,col_indexer] = value instead\n",
      "\n",
      "See the caveats in the documentation: https://pandas.pydata.org/pandas-docs/stable/user_guide/indexing.html#returning-a-view-versus-a-copy\n",
      "  df_temp[\"Nachname\"] = \"Föhr\"\n",
      "C:\\Users\\I569776\\AppData\\Local\\Temp\\ipykernel_36176\\828728270.py:4: SettingWithCopyWarning: \n",
      "A value is trying to be set on a copy of a slice from a DataFrame.\n",
      "Try using .loc[row_indexer,col_indexer] = value instead\n",
      "\n",
      "See the caveats in the documentation: https://pandas.pydata.org/pandas-docs/stable/user_guide/indexing.html#returning-a-view-versus-a-copy\n",
      "  df_temp[\"Fraktion\"] = \"CDU/CSU\"\n"
     ]
    },
    {
     "data": {
      "text/html": [
       "<div>\n",
       "<style scoped>\n",
       "    .dataframe tbody tr th:only-of-type {\n",
       "        vertical-align: middle;\n",
       "    }\n",
       "\n",
       "    .dataframe tbody tr th {\n",
       "        vertical-align: top;\n",
       "    }\n",
       "\n",
       "    .dataframe thead th {\n",
       "        text-align: right;\n",
       "    }\n",
       "</style>\n",
       "<table border=\"1\" class=\"dataframe\">\n",
       "  <thead>\n",
       "    <tr style=\"text-align: right;\">\n",
       "      <th></th>\n",
       "      <th>Datum</th>\n",
       "      <th>Fraktion</th>\n",
       "      <th>Vorname</th>\n",
       "      <th>Nachname</th>\n",
       "      <th>Rede</th>\n",
       "    </tr>\n",
       "  </thead>\n",
       "  <tbody>\n",
       "    <tr>\n",
       "      <th>15564</th>\n",
       "      <td>16.03.2023</td>\n",
       "      <td>CDU/CSU</td>\n",
       "      <td>Alexander</td>\n",
       "      <td>Föhr</td>\n",
       "      <td>\\n\\t\\t\\t\\t\\tVielen Dank für die freundliche Be...</td>\n",
       "    </tr>\n",
       "    <tr>\n",
       "      <th>15921</th>\n",
       "      <td>30.03.2023</td>\n",
       "      <td>CDU/CSU</td>\n",
       "      <td>Alexander</td>\n",
       "      <td>Föhr</td>\n",
       "      <td>Sehr geehrte Frau Präsidentin! Liebe Kolleginn...</td>\n",
       "    </tr>\n",
       "    <tr>\n",
       "      <th>16217</th>\n",
       "      <td>19.04.2023</td>\n",
       "      <td>CDU/CSU</td>\n",
       "      <td>Alexander</td>\n",
       "      <td>Föhr</td>\n",
       "      <td>\\n\\t\\t\\t\\t\\tSehr geehrte Frau Präsidentin! Seh...</td>\n",
       "    </tr>\n",
       "    <tr>\n",
       "      <th>17068</th>\n",
       "      <td>11.05.2023</td>\n",
       "      <td>CDU/CSU</td>\n",
       "      <td>Alexander</td>\n",
       "      <td>Föhr</td>\n",
       "      <td>Sehr geehrte Frau Präsidentin! Sehr geehrte Ko...</td>\n",
       "    </tr>\n",
       "    <tr>\n",
       "      <th>18765</th>\n",
       "      <td>05.07.2023</td>\n",
       "      <td>CDU/CSU</td>\n",
       "      <td>Alexander</td>\n",
       "      <td>Föhr</td>\n",
       "      <td>Herr Präsident! Sehr geehrte Kolleginnen und K...</td>\n",
       "    </tr>\n",
       "    <tr>\n",
       "      <th>19030</th>\n",
       "      <td>07.07.2023</td>\n",
       "      <td>CDU/CSU</td>\n",
       "      <td>Alexander</td>\n",
       "      <td>Föhr</td>\n",
       "      <td>\\n\\t\\t\\t\\t\\tFrau Präsidentin! Liebe Kolleginne...</td>\n",
       "    </tr>\n",
       "  </tbody>\n",
       "</table>\n",
       "</div>"
      ],
      "text/plain": [
       "            Datum Fraktion    Vorname Nachname  \\\n",
       "15564  16.03.2023  CDU/CSU  Alexander     Föhr   \n",
       "15921  30.03.2023  CDU/CSU  Alexander     Föhr   \n",
       "16217  19.04.2023  CDU/CSU  Alexander     Föhr   \n",
       "17068  11.05.2023  CDU/CSU  Alexander     Föhr   \n",
       "18765  05.07.2023  CDU/CSU  Alexander     Föhr   \n",
       "19030  07.07.2023  CDU/CSU  Alexander     Föhr   \n",
       "\n",
       "                                                    Rede  \n",
       "15564  \\n\\t\\t\\t\\t\\tVielen Dank für die freundliche Be...  \n",
       "15921  Sehr geehrte Frau Präsidentin! Liebe Kolleginn...  \n",
       "16217  \\n\\t\\t\\t\\t\\tSehr geehrte Frau Präsidentin! Seh...  \n",
       "17068  Sehr geehrte Frau Präsidentin! Sehr geehrte Ko...  \n",
       "18765  Herr Präsident! Sehr geehrte Kolleginnen und K...  \n",
       "19030  \\n\\t\\t\\t\\t\\tFrau Präsidentin! Liebe Kolleginne...  "
      ]
     },
     "execution_count": 155,
     "metadata": {},
     "output_type": "execute_result"
    }
   ],
   "source": [
    "df_temp = df_pd.loc[df_pd[\"Fraktion\"] == \"SPDCDU/CSU\"]\n",
    "df_temp[\"Vorname\"] = \"Alexander\"\n",
    "df_temp[\"Nachname\"] = \"Föhr\"\n",
    "df_temp[\"Fraktion\"] = \"CDU/CSU\"\n",
    "df_pd = df_pd.loc[df_pd[\"Fraktion\"] != \"SPDCDU/CSU\"]\n",
    "df_pd = pd.concat([df_pd, df_temp])\n",
    "df_temp"
   ]
  },
  {
   "cell_type": "code",
   "execution_count": 156,
   "metadata": {},
   "outputs": [],
   "source": [
    "def bereinigen(el):\n",
    "    if el is None:\n",
    "        return None\n",
    "    return el.replace(\" \", \"\").replace(\"\\n\", \"\").replace(\"\\t\", \"\").upper()\n",
    "\n",
    "mask = df_pd[\"Fraktion\"].isnull()\n",
    "\n",
    "# Update 'Fraktion' directly in df_pd using the mask\n",
    "df_pd.loc[mask, \"Fraktion\"] = df_pd[mask].apply(\n",
    "    lambda row: politiker_partei.get(f\"{row['Vorname']} {row['Nachname']}\", None),\n",
    "    axis=1\n",
    ")"
   ]
  },
  {
   "cell_type": "code",
   "execution_count": 157,
   "metadata": {},
   "outputs": [],
   "source": [
    "df2_partys = set(list(df2[\"abbreviation\"].value_counts()[\"abbreviation\"]))\n",
    "df1_partys = set(list(df_pd[\"Fraktion\"].apply(lambda s: bereinigen(s))))"
   ]
  },
  {
   "cell_type": "code",
   "execution_count": 158,
   "metadata": {},
   "outputs": [
    {
     "data": {
      "text/plain": [
       "{'AFD',\n",
       " 'BSW',\n",
       " 'BÜNDNIS\\xa090/DIEGRÜNEN',\n",
       " 'CDU/CSU',\n",
       " 'DIELINKE',\n",
       " 'FDP',\n",
       " 'FRAKTIONSLOS',\n",
       " 'SPD'}"
      ]
     },
     "execution_count": 158,
     "metadata": {},
     "output_type": "execute_result"
    }
   ],
   "source": [
    "df1_partys"
   ]
  },
  {
   "cell_type": "code",
   "execution_count": 159,
   "metadata": {},
   "outputs": [],
   "source": [
    "party_translation = {\n",
    "'AFD': 'AfD',\n",
    "'BSW': \"BSW\", # No clear equivalent\n",
    "'BÜNDNIS\\xa090/DIEGRÜNEN': 'Grüne',\n",
    "'CDU/CSU': 'CDU/CSU',\n",
    "'DIELINKE': 'DIE LINKE.',\n",
    "'FDP': 'FDP',\n",
    "'FRAKTIONSLOS': 'Fraktionslos',\n",
    "None: None, # Represents missing or unspecified data\n",
    "'SPD': 'SPD'\n",
    "}\n",
    "\n",
    "df_pd[\"Fraktion\"] = df_pd[\"Fraktion\"].apply(lambda s: bereinigen(s))\n",
    "df_pd[\"Fraktion\"] = df_pd[\"Fraktion\"].apply(lambda s: party_translation[s])"
   ]
  },
  {
   "cell_type": "code",
   "execution_count": 160,
   "metadata": {},
   "outputs": [
    {
     "data": {
      "text/plain": [
       "0        13.01.2021\n",
       "1        13.01.2021\n",
       "2        13.01.2021\n",
       "3        13.01.2021\n",
       "4        13.01.2021\n",
       "            ...    \n",
       "15921    30.03.2023\n",
       "16217    19.04.2023\n",
       "17068    11.05.2023\n",
       "18765    05.07.2023\n",
       "19030    07.07.2023\n",
       "Name: Datum, Length: 31590, dtype: object"
      ]
     },
     "execution_count": 160,
     "metadata": {},
     "output_type": "execute_result"
    }
   ],
   "source": [
    "df_pd[\"Datum\"]"
   ]
  },
  {
   "cell_type": "code",
   "execution_count": 161,
   "metadata": {},
   "outputs": [],
   "source": [
    "from datetime import datetime\n",
    "\n",
    "def fix_string(s):\n",
    "    s = str(s)\n",
    "    try:\n",
    "        return datetime.strptime(s, \"%d.%m.%Y\").strftime(\"%Y-%m-%d\")\n",
    "    except:\n",
    "        return s\n",
    "\n",
    "df_pd = pd.concat([df_pd, df_temp])\n",
    "df_pd[\"Datum\"] = df_pd[\"Datum\"].apply(lambda x: fix_string(x))\n",
    "df_pd.to_parquet(\"./temp.parquet\")\n",
    "df = pl.read_parquet(\"./temp.parquet\")\n",
    "df = df.drop([\"__index_level_0__\"])"
   ]
  },
  {
   "cell_type": "code",
   "execution_count": 162,
   "metadata": {},
   "outputs": [
    {
     "data": {
      "text/plain": [
       "'2002-10-13'"
      ]
     },
     "execution_count": 162,
     "metadata": {},
     "output_type": "execute_result"
    }
   ],
   "source": [
    "fix_string(\"13.10.2002\")"
   ]
  },
  {
   "cell_type": "code",
   "execution_count": 163,
   "metadata": {},
   "outputs": [],
   "source": [
    "rename_dict = {\n",
    "\"Datum\": \"date\",\n",
    "\"Fraktion\": \"abbreviation\",\n",
    "\"Vorname\": \"firstName\",\n",
    "\"Nachname\": \"lastName\",\n",
    "\"Rede\": \"speechContent\"\n",
    "}\n",
    "\n",
    "# Rename the columns\n",
    "df = df.rename(rename_dict)"
   ]
  },
  {
   "cell_type": "code",
   "execution_count": 164,
   "metadata": {},
   "outputs": [],
   "source": [
    "try:\n",
    "    df2 = df2.drop([\"full_name\"])\n",
    "    df = df.drop([\"__index_level_0__\"])\n",
    "except:\n",
    "    pass"
   ]
  },
  {
   "cell_type": "code",
   "execution_count": 165,
   "metadata": {},
   "outputs": [
    {
     "data": {
      "text/plain": [
       "31596"
      ]
     },
     "execution_count": 165,
     "metadata": {},
     "output_type": "execute_result"
    }
   ],
   "source": [
    "len(df)"
   ]
  },
  {
   "cell_type": "code",
   "execution_count": 166,
   "metadata": {},
   "outputs": [
    {
     "data": {
      "text/plain": [
       "374076"
      ]
     },
     "execution_count": 166,
     "metadata": {},
     "output_type": "execute_result"
    }
   ],
   "source": [
    "len(df2)"
   ]
  },
  {
   "cell_type": "code",
   "execution_count": 167,
   "metadata": {},
   "outputs": [],
   "source": [
    "# Sort columns alphabetically\n",
    "sorted_columns = sorted(df.columns) # Get sorted column names\n",
    "df = df.select(sorted_columns) # Reorder columns in DataFrame\n",
    "\n",
    "# Sort columns alphabetically\n",
    "sorted_columns = sorted(df2.columns) # Get sorted column names\n",
    "df2 = df2.select(sorted_columns) # Reorder columns in DataFrame\n"
   ]
  },
  {
   "cell_type": "code",
   "execution_count": 168,
   "metadata": {},
   "outputs": [
    {
     "data": {
      "text/html": [
       "<div><style>\n",
       ".dataframe > thead > tr,\n",
       ".dataframe > tbody > tr {\n",
       "  text-align: right;\n",
       "  white-space: pre-wrap;\n",
       "}\n",
       "</style>\n",
       "<small>shape: (31_596, 5)</small><table border=\"1\" class=\"dataframe\"><thead><tr><th>abbreviation</th><th>date</th><th>firstName</th><th>lastName</th><th>speechContent</th></tr><tr><td>str</td><td>str</td><td>str</td><td>str</td><td>str</td></tr></thead><tbody><tr><td>&quot;CDU/CSU&quot;</td><td>&quot;2021-01-13&quot;</td><td>&quot;Jens&quot;</td><td>&quot;Spahn&quot;</td><td>&quot;\n",
       "\t\t\t\t\tHerr Präsident! Liebe Ko…</td></tr><tr><td>&quot;AfD&quot;</td><td>&quot;2021-01-13&quot;</td><td>&quot;Sebastian&quot;</td><td>&quot;Münzenmaier&quot;</td><td>&quot;\n",
       "\t\t\t\t\tSehr geehrter Herr Präsi…</td></tr><tr><td>&quot;SPD&quot;</td><td>&quot;2021-01-13&quot;</td><td>&quot;Bärbel&quot;</td><td>&quot;Bas&quot;</td><td>&quot;\n",
       "\t\t\t\t\tHerr Präsident! Meine Da…</td></tr><tr><td>&quot;FDP&quot;</td><td>&quot;2021-01-13&quot;</td><td>&quot;Christian&quot;</td><td>&quot;Lindner&quot;</td><td>&quot;\n",
       "\t\t\t\t\tHerr Präsident! Liebe Ko…</td></tr><tr><td>&quot;CDU/CSU&quot;</td><td>&quot;2021-01-13&quot;</td><td>&quot;Karin&quot;</td><td>&quot;Maag&quot;</td><td>&quot;\n",
       "\t\t\t\t\tHerr Präsident! Liebe Ko…</td></tr><tr><td>&hellip;</td><td>&hellip;</td><td>&hellip;</td><td>&hellip;</td><td>&hellip;</td></tr><tr><td>&quot;CDU/CSU&quot;</td><td>&quot;2023-03-30&quot;</td><td>&quot;Alexander&quot;</td><td>&quot;Föhr&quot;</td><td>&quot;Sehr geehrte Frau Präsidentin!…</td></tr><tr><td>&quot;CDU/CSU&quot;</td><td>&quot;2023-04-19&quot;</td><td>&quot;Alexander&quot;</td><td>&quot;Föhr&quot;</td><td>&quot;\n",
       "\t\t\t\t\tSehr geehrte Frau Präsid…</td></tr><tr><td>&quot;CDU/CSU&quot;</td><td>&quot;2023-05-11&quot;</td><td>&quot;Alexander&quot;</td><td>&quot;Föhr&quot;</td><td>&quot;Sehr geehrte Frau Präsidentin!…</td></tr><tr><td>&quot;CDU/CSU&quot;</td><td>&quot;2023-07-05&quot;</td><td>&quot;Alexander&quot;</td><td>&quot;Föhr&quot;</td><td>&quot;Herr Präsident! Sehr geehrte K…</td></tr><tr><td>&quot;CDU/CSU&quot;</td><td>&quot;2023-07-07&quot;</td><td>&quot;Alexander&quot;</td><td>&quot;Föhr&quot;</td><td>&quot;\n",
       "\t\t\t\t\tFrau Präsidentin! Liebe …</td></tr></tbody></table></div>"
      ],
      "text/plain": [
       "shape: (31_596, 5)\n",
       "┌──────────────┬────────────┬───────────┬─────────────┬─────────────────────────────────┐\n",
       "│ abbreviation ┆ date       ┆ firstName ┆ lastName    ┆ speechContent                   │\n",
       "│ ---          ┆ ---        ┆ ---       ┆ ---         ┆ ---                             │\n",
       "│ str          ┆ str        ┆ str       ┆ str         ┆ str                             │\n",
       "╞══════════════╪════════════╪═══════════╪═════════════╪═════════════════════════════════╡\n",
       "│ CDU/CSU      ┆ 2021-01-13 ┆ Jens      ┆ Spahn       ┆                                 │\n",
       "│              ┆            ┆           ┆             ┆ \t\t\t\t\tHerr Präsident! Liebe Ko…  │\n",
       "│ AfD          ┆ 2021-01-13 ┆ Sebastian ┆ Münzenmaier ┆                                 │\n",
       "│              ┆            ┆           ┆             ┆ \t\t\t\t\tSehr geehrter Herr Präsi…  │\n",
       "│ SPD          ┆ 2021-01-13 ┆ Bärbel    ┆ Bas         ┆                                 │\n",
       "│              ┆            ┆           ┆             ┆ \t\t\t\t\tHerr Präsident! Meine Da…  │\n",
       "│ FDP          ┆ 2021-01-13 ┆ Christian ┆ Lindner     ┆                                 │\n",
       "│              ┆            ┆           ┆             ┆ \t\t\t\t\tHerr Präsident! Liebe Ko…  │\n",
       "│ CDU/CSU      ┆ 2021-01-13 ┆ Karin     ┆ Maag        ┆                                 │\n",
       "│              ┆            ┆           ┆             ┆ \t\t\t\t\tHerr Präsident! Liebe Ko…  │\n",
       "│ …            ┆ …          ┆ …         ┆ …           ┆ …                               │\n",
       "│ CDU/CSU      ┆ 2023-03-30 ┆ Alexander ┆ Föhr        ┆ Sehr geehrte Frau Präsidentin!… │\n",
       "│ CDU/CSU      ┆ 2023-04-19 ┆ Alexander ┆ Föhr        ┆                                 │\n",
       "│              ┆            ┆           ┆             ┆ \t\t\t\t\tSehr geehrte Frau Präsid…  │\n",
       "│ CDU/CSU      ┆ 2023-05-11 ┆ Alexander ┆ Föhr        ┆ Sehr geehrte Frau Präsidentin!… │\n",
       "│ CDU/CSU      ┆ 2023-07-05 ┆ Alexander ┆ Föhr        ┆ Herr Präsident! Sehr geehrte K… │\n",
       "│ CDU/CSU      ┆ 2023-07-07 ┆ Alexander ┆ Föhr        ┆                                 │\n",
       "│              ┆            ┆           ┆             ┆ \t\t\t\t\tFrau Präsidentin! Liebe …  │\n",
       "└──────────────┴────────────┴───────────┴─────────────┴─────────────────────────────────┘"
      ]
     },
     "execution_count": 168,
     "metadata": {},
     "output_type": "execute_result"
    }
   ],
   "source": [
    "df"
   ]
  },
  {
   "cell_type": "code",
   "execution_count": 169,
   "metadata": {},
   "outputs": [],
   "source": [
    "df = pl.concat([df,df2]).unique()"
   ]
  },
  {
   "cell_type": "code",
   "execution_count": 170,
   "metadata": {},
   "outputs": [
    {
     "data": {
      "text/html": [
       "<div><style>\n",
       ".dataframe > thead > tr,\n",
       ".dataframe > tbody > tr {\n",
       "  text-align: right;\n",
       "  white-space: pre-wrap;\n",
       "}\n",
       "</style>\n",
       "<small>shape: (374_076, 5)</small><table border=\"1\" class=\"dataframe\"><thead><tr><th>abbreviation</th><th>date</th><th>firstName</th><th>lastName</th><th>speechContent</th></tr><tr><td>str</td><td>str</td><td>str</td><td>str</td><td>str</td></tr></thead><tbody><tr><td>&quot;CDU/CSU&quot;</td><td>&quot;1949-09-15&quot;</td><td>null</td><td>&quot;adenauer&quot;</td><td>&quot;Ja.\n",
       "&quot;</td></tr><tr><td>&quot;FDP&quot;</td><td>&quot;1949-09-15&quot;</td><td>null</td><td>&quot;blücher&quot;</td><td>&quot;Herr Präsident, meine Damen un…</td></tr><tr><td>&quot;SPD&quot;</td><td>&quot;1949-09-15&quot;</td><td>null</td><td>&quot;schmid&quot;</td><td>&quot;Meine Damen und Herren, ich ha…</td></tr><tr><td>&quot;KPD&quot;</td><td>&quot;1949-09-15&quot;</td><td>null</td><td>&quot;renner&quot;</td><td>&quot;Meine Damen und Herren! In der…</td></tr><tr><td>&quot;KPD&quot;</td><td>&quot;1949-09-15&quot;</td><td>null</td><td>&quot;renner&quot;</td><td>&quot;Ich habe wohl das Recht, auf d…</td></tr><tr><td>&hellip;</td><td>&hellip;</td><td>&hellip;</td><td>&hellip;</td><td>&hellip;</td></tr><tr><td>&quot;SPD&quot;</td><td>&quot;2021-05-07&quot;</td><td>&quot;Helge&quot;</td><td>&quot;Lindh&quot;</td><td>&quot;\n",
       "\n",
       "Frau Präsidentin! Liebe Koll…</td></tr><tr><td>&quot;SPD&quot;</td><td>&quot;2021-05-07&quot;</td><td>&quot;Helge&quot;</td><td>&quot;Lindh&quot;</td><td>&quot;\n",
       "\n",
       "– weise ich mal darauf hin, …</td></tr><tr><td>&quot;SPD&quot;</td><td>&quot;2021-05-07&quot;</td><td>&quot;Helge&quot;</td><td>&quot;Lindh&quot;</td><td>&quot;\n",
       "\n",
       "Wie bitte?&quot;</td></tr><tr><td>&quot;SPD&quot;</td><td>&quot;2021-05-07&quot;</td><td>&quot;Helge&quot;</td><td>&quot;Lindh&quot;</td><td>&quot;\n",
       "\n",
       "Gut, ich beschränke mich auf…</td></tr><tr><td>&quot;CDU/CSU&quot;</td><td>&quot;2021-05-07&quot;</td><td>&quot;Tankred&quot;</td><td>&quot;Schipanski&quot;</td><td>&quot;\n",
       "\n",
       "Vielen Dank. – Frau Präsiden…</td></tr></tbody></table></div>"
      ],
      "text/plain": [
       "shape: (374_076, 5)\n",
       "┌──────────────┬────────────┬───────────┬────────────┬─────────────────────────────────┐\n",
       "│ abbreviation ┆ date       ┆ firstName ┆ lastName   ┆ speechContent                   │\n",
       "│ ---          ┆ ---        ┆ ---       ┆ ---        ┆ ---                             │\n",
       "│ str          ┆ str        ┆ str       ┆ str        ┆ str                             │\n",
       "╞══════════════╪════════════╪═══════════╪════════════╪═════════════════════════════════╡\n",
       "│ CDU/CSU      ┆ 1949-09-15 ┆ null      ┆ adenauer   ┆ Ja.                             │\n",
       "│              ┆            ┆           ┆            ┆                                 │\n",
       "│ FDP          ┆ 1949-09-15 ┆ null      ┆ blücher    ┆ Herr Präsident, meine Damen un… │\n",
       "│ SPD          ┆ 1949-09-15 ┆ null      ┆ schmid     ┆ Meine Damen und Herren, ich ha… │\n",
       "│ KPD          ┆ 1949-09-15 ┆ null      ┆ renner     ┆ Meine Damen und Herren! In der… │\n",
       "│ KPD          ┆ 1949-09-15 ┆ null      ┆ renner     ┆ Ich habe wohl das Recht, auf d… │\n",
       "│ …            ┆ …          ┆ …         ┆ …          ┆ …                               │\n",
       "│ SPD          ┆ 2021-05-07 ┆ Helge     ┆ Lindh      ┆                                 │\n",
       "│              ┆            ┆           ┆            ┆                                 │\n",
       "│              ┆            ┆           ┆            ┆ Frau Präsidentin! Liebe Koll…   │\n",
       "│ SPD          ┆ 2021-05-07 ┆ Helge     ┆ Lindh      ┆                                 │\n",
       "│              ┆            ┆           ┆            ┆                                 │\n",
       "│              ┆            ┆           ┆            ┆ – weise ich mal darauf hin, …   │\n",
       "│ SPD          ┆ 2021-05-07 ┆ Helge     ┆ Lindh      ┆                                 │\n",
       "│              ┆            ┆           ┆            ┆                                 │\n",
       "│              ┆            ┆           ┆            ┆ Wie bitte?                      │\n",
       "│ SPD          ┆ 2021-05-07 ┆ Helge     ┆ Lindh      ┆                                 │\n",
       "│              ┆            ┆           ┆            ┆                                 │\n",
       "│              ┆            ┆           ┆            ┆ Gut, ich beschränke mich auf…   │\n",
       "│ CDU/CSU      ┆ 2021-05-07 ┆ Tankred   ┆ Schipanski ┆                                 │\n",
       "│              ┆            ┆           ┆            ┆                                 │\n",
       "│              ┆            ┆           ┆            ┆ Vielen Dank. – Frau Präsiden…   │\n",
       "└──────────────┴────────────┴───────────┴────────────┴─────────────────────────────────┘"
      ]
     },
     "execution_count": 170,
     "metadata": {},
     "output_type": "execute_result"
    }
   ],
   "source": [
    "df2"
   ]
  },
  {
   "cell_type": "code",
   "execution_count": 171,
   "metadata": {},
   "outputs": [],
   "source": [
    "df.write_parquet(\"./union.parquet\")"
   ]
  }
 ],
 "metadata": {
  "kernelspec": {
   "display_name": "Python 3",
   "language": "python",
   "name": "python3"
  },
  "language_info": {
   "codemirror_mode": {
    "name": "ipython",
    "version": 3
   },
   "file_extension": ".py",
   "mimetype": "text/x-python",
   "name": "python",
   "nbconvert_exporter": "python",
   "pygments_lexer": "ipython3",
   "version": "3.12.9"
  }
 },
 "nbformat": 4,
 "nbformat_minor": 2
}
