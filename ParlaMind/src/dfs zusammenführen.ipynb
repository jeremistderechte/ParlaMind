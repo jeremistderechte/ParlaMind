{
 "cells": [
  {
   "cell_type": "code",
   "execution_count": 1,
   "metadata": {},
   "outputs": [],
   "source": [
    "import polars as pl\n",
    "import pandas as pd"
   ]
  },
  {
   "cell_type": "code",
   "execution_count": 2,
   "metadata": {},
   "outputs": [],
   "source": [
    "import FileReader\n",
    "\n",
    "df = FileReader.put_all_xmls_into_one_df(r\"C:\\Users\\I569776\\Desktop\\uni\\NLP\\speech-202\")"
   ]
  },
  {
   "cell_type": "code",
   "execution_count": 3,
   "metadata": {},
   "outputs": [],
   "source": [
    "df2 = pl.read_parquet(r\"C:\\Users\\I569776\\Desktop\\uni\\NLP\\bundestags_daten.parquet\")"
   ]
  },
  {
   "cell_type": "code",
   "execution_count": 4,
   "metadata": {},
   "outputs": [
    {
     "data": {
      "text/html": [
       "<div><style>\n",
       ".dataframe > thead > tr,\n",
       ".dataframe > tbody > tr {\n",
       "  text-align: right;\n",
       "  white-space: pre-wrap;\n",
       "}\n",
       "</style>\n",
       "<small>shape: (31_590, 9)</small><table border=\"1\" class=\"dataframe\"><thead><tr><th>Datum</th><th>WahlperiodenNr</th><th>SitzungsNr</th><th>Fraktion</th><th>Titel</th><th>Vorname</th><th>Nachname</th><th>Rede</th><th>Kommentare</th></tr><tr><td>str</td><td>i64</td><td>i64</td><td>str</td><td>str</td><td>str</td><td>str</td><td>str</td><td>list[str]</td></tr></thead><tbody><tr><td>&quot;13.01.2021&quot;</td><td>19</td><td>203</td><td>null</td><td>null</td><td>&quot;Jens&quot;</td><td>&quot;Spahn&quot;</td><td>&quot;\n",
       "\t\t\t\t\tHerr Präsident! Liebe Ko…</td><td>[&quot;(Beifall bei der CDU/CSU sowie bei Abgeordneten der SPD, der FDP, der LINKEN und des BÜNDNISSES 90/DIE GRÜNEN)&quot;, &quot;(Beifall bei der CDU/CSU und der SPD sowie bei Abgeordneten der FDP, der LINKEN und des BÜNDNISSES 90/DIE GRÜNEN)&quot;, … &quot;(Beifall bei der AfD)&quot;]</td></tr><tr><td>&quot;13.01.2021&quot;</td><td>19</td><td>203</td><td>&quot;AfD&quot;</td><td>null</td><td>&quot;Sebastian&quot;</td><td>&quot;Münzenmaier&quot;</td><td>&quot;\n",
       "\t\t\t\t\tSehr geehrter Herr Präsi…</td><td>[&quot;(Jan Korte [DIE LINKE]: Mit Verrücktsein kennen Sie sich ja aus!)&quot;, &quot;(Beifall bei der AfD)&quot;, … &quot;(Beifall bei der AfD)&quot;]</td></tr><tr><td>&quot;13.01.2021&quot;</td><td>19</td><td>203</td><td>&quot;SPD&quot;</td><td>null</td><td>&quot;Bärbel&quot;</td><td>&quot;Bas&quot;</td><td>&quot;\n",
       "\t\t\t\t\tHerr Präsident! Meine Da…</td><td>[&quot;(Beifall bei Abgeordneten der SPD)&quot;, &quot;(Beifall bei Abgeordneten der SPD)&quot;, … &quot;(Beifall bei der FDP)&quot;]</td></tr><tr><td>&quot;13.01.2021&quot;</td><td>19</td><td>203</td><td>&quot;FDP&quot;</td><td>null</td><td>&quot;Christian&quot;</td><td>&quot;Lindner&quot;</td><td>&quot;\n",
       "\t\t\t\t\tHerr Präsident! Liebe Ko…</td><td>[&quot;(Beifall bei der FDP sowie bei Abgeordneten der CDU/CSU)&quot;, &quot;(Beifall bei der FDP sowie bei Abgeordneten der CDU/CSU)&quot;, … &quot;(Beifall bei der CDU/CSU)&quot;]</td></tr><tr><td>&quot;13.01.2021&quot;</td><td>19</td><td>203</td><td>&quot;CDU/CSU&quot;</td><td>null</td><td>&quot;Karin&quot;</td><td>&quot;Maag&quot;</td><td>&quot;\n",
       "\t\t\t\t\tHerr Präsident! Liebe Ko…</td><td>[&quot;(Beifall bei Abgeordneten der CDU/CSU, der SPD und der FDP)&quot;, &quot;(Beifall bei der CDU/CSU)&quot;, … &quot;(Beifall bei der LINKEN)&quot;]</td></tr><tr><td>&hellip;</td><td>&hellip;</td><td>&hellip;</td><td>&hellip;</td><td>&hellip;</td><td>&hellip;</td><td>&hellip;</td><td>&hellip;</td><td>&hellip;</td></tr><tr><td>&quot;11.02.2025&quot;</td><td>20</td><td>212</td><td>&quot;SPD&quot;</td><td>&quot;Dr.&quot;</td><td>&quot;Lina&quot;</td><td>&quot;Seitzl&quot;</td><td>&quot;Frau Präsidentin! Liebe Kolleg…</td><td>[&quot;(Beifall bei der SPD sowie bei Abgeordneten des BÜNDNISSES 90/DIE GRÜNEN)&quot;, &quot;(Beifall bei der SPD)&quot;, &quot;(Beifall bei der SPD sowie bei Abgeordneten des BÜNDNISSES 90/DIE GRÜNEN)&quot;]</td></tr><tr><td>&quot;11.02.2025&quot;</td><td>20</td><td>212</td><td>&quot;fraktionslos&quot;</td><td>null</td><td>&quot;Thomas&quot;</td><td>&quot;Seitz&quot;</td><td>&quot;Sehr geehrte Frau Präsidentin!…</td><td>[&quot;(Beifall bei Abgeordneten der AfD und bei fraktionslosen Abgeordneten)&quot;]</td></tr><tr><td>&quot;11.02.2025&quot;</td><td>20</td><td>212</td><td>&quot;fraktionslos&quot;</td><td>null</td><td>&quot;Stefan&quot;</td><td>&quot;Seidler&quot;</td><td>&quot;Vielen Dank, Frau Präsidentin.…</td><td>[&quot;(Beifall bei Abgeordneten der SPD, des BÜNDNISSES 90/DIE GRÜNEN und der Linken)&quot;, &quot;(Beifall bei Abgeordneten der SPD und des BÜNDNISSES 90/DIE GRÜNEN)&quot;, … &quot;(Beifall bei fraktionslosen Abgeordneten)&quot;]</td></tr><tr><td>&quot;11.02.2025&quot;</td><td>20</td><td>212</td><td>&quot;fraktionslos&quot;</td><td>null</td><td>&quot;Robert&quot;</td><td>&quot;Farle&quot;</td><td>&quot;Sehr geehrte Frau Präsidentin!…</td><td>[&quot;(Dr. Paula Piechotta [BÜNDNIS 90/DIE GRÜNEN]: Aber Herr Farle!)&quot;, &quot;(Heiterkeit bei Abgeordneten der AfD)&quot;, … &quot;(Beifall bei der SPD und dem BÜNDNIS 90/DIE GRÜNEN)&quot;]</td></tr><tr><td>&quot;11.02.2025&quot;</td><td>20</td><td>212</td><td>&quot;SPD&quot;</td><td>null</td><td>&quot;Kevin&quot;</td><td>&quot;Kühnert&quot;</td><td>&quot;Frau Präsidentin! Liebe Kolleg…</td><td>[&quot;(Beifall bei der SPD, dem BÜNDNIS 90/DIE GRÜNEN, der FDP und der Linken sowie bei Abgeordneten der CDU/CSU)&quot;, &quot;(Beifall bei Abgeordneten der SPD und des BÜNDNISSES 90/DIE GRÜNEN)&quot;, … &quot;(Beifall bei der SPD und dem BÜNDNIS 90/DIE GRÜNEN – Die Fraktionen der SPD und des BÜNDNISSES 90/DIE GRÜNEN erheben sich)&quot;]</td></tr></tbody></table></div>"
      ],
      "text/plain": [
       "shape: (31_590, 9)\n",
       "┌───────────┬───────────┬───────────┬───────────┬───┬───────────┬───────────┬───────────┬──────────┐\n",
       "│ Datum     ┆ Wahlperio ┆ SitzungsN ┆ Fraktion  ┆ … ┆ Vorname   ┆ Nachname  ┆ Rede      ┆ Kommenta │\n",
       "│ ---       ┆ denNr     ┆ r         ┆ ---       ┆   ┆ ---       ┆ ---       ┆ ---       ┆ re       │\n",
       "│ str       ┆ ---       ┆ ---       ┆ str       ┆   ┆ str       ┆ str       ┆ str       ┆ ---      │\n",
       "│           ┆ i64       ┆ i64       ┆           ┆   ┆           ┆           ┆           ┆ list[str │\n",
       "│           ┆           ┆           ┆           ┆   ┆           ┆           ┆           ┆ ]        │\n",
       "╞═══════════╪═══════════╪═══════════╪═══════════╪═══╪═══════════╪═══════════╪═══════════╪══════════╡\n",
       "│ 13.01.202 ┆ 19        ┆ 203       ┆ null      ┆ … ┆ Jens      ┆ Spahn     ┆           ┆ [\"(Beifa │\n",
       "│ 1         ┆           ┆           ┆           ┆   ┆           ┆           ┆ \t\t\t\t\tHerr ┆ ll bei   │\n",
       "│           ┆           ┆           ┆           ┆   ┆           ┆           ┆ Präsident ┆ der      │\n",
       "│           ┆           ┆           ┆           ┆   ┆           ┆           ┆ ! Liebe   ┆ CDU/CSU  │\n",
       "│           ┆           ┆           ┆           ┆   ┆           ┆           ┆ Ko…       ┆ sow…     │\n",
       "│ 13.01.202 ┆ 19        ┆ 203       ┆ AfD       ┆ … ┆ Sebastian ┆ Münzenmai ┆           ┆ [\"(Jan   │\n",
       "│ 1         ┆           ┆           ┆           ┆   ┆           ┆ er        ┆ \t\t\t\t\tSehr ┆ Korte    │\n",
       "│           ┆           ┆           ┆           ┆   ┆           ┆           ┆ geehrter  ┆ [DIE     │\n",
       "│           ┆           ┆           ┆           ┆   ┆           ┆           ┆ Herr      ┆ LINKE]:  │\n",
       "│           ┆           ┆           ┆           ┆   ┆           ┆           ┆ Präsi…    ┆ Mit …    │\n",
       "│ 13.01.202 ┆ 19        ┆ 203       ┆ SPD       ┆ … ┆ Bärbel    ┆ Bas       ┆           ┆ [\"(Beifa │\n",
       "│ 1         ┆           ┆           ┆           ┆   ┆           ┆           ┆ \t\t\t\t\tHerr ┆ ll bei   │\n",
       "│           ┆           ┆           ┆           ┆   ┆           ┆           ┆ Präsident ┆ Abgeordn │\n",
       "│           ┆           ┆           ┆           ┆   ┆           ┆           ┆ ! Meine   ┆ eten de… │\n",
       "│           ┆           ┆           ┆           ┆   ┆           ┆           ┆ Da…       ┆          │\n",
       "│ 13.01.202 ┆ 19        ┆ 203       ┆ FDP       ┆ … ┆ Christian ┆ Lindner   ┆           ┆ [\"(Beifa │\n",
       "│ 1         ┆           ┆           ┆           ┆   ┆           ┆           ┆ \t\t\t\t\tHerr ┆ ll bei   │\n",
       "│           ┆           ┆           ┆           ┆   ┆           ┆           ┆ Präsident ┆ der FDP  │\n",
       "│           ┆           ┆           ┆           ┆   ┆           ┆           ┆ ! Liebe   ┆ sowie b… │\n",
       "│           ┆           ┆           ┆           ┆   ┆           ┆           ┆ Ko…       ┆          │\n",
       "│ 13.01.202 ┆ 19        ┆ 203       ┆ CDU/CSU   ┆ … ┆ Karin     ┆ Maag      ┆           ┆ [\"(Beifa │\n",
       "│ 1         ┆           ┆           ┆           ┆   ┆           ┆           ┆ \t\t\t\t\tHerr ┆ ll bei   │\n",
       "│           ┆           ┆           ┆           ┆   ┆           ┆           ┆ Präsident ┆ Abgeordn │\n",
       "│           ┆           ┆           ┆           ┆   ┆           ┆           ┆ ! Liebe   ┆ eten de… │\n",
       "│           ┆           ┆           ┆           ┆   ┆           ┆           ┆ Ko…       ┆          │\n",
       "│ …         ┆ …         ┆ …         ┆ …         ┆ … ┆ …         ┆ …         ┆ …         ┆ …        │\n",
       "│ 11.02.202 ┆ 20        ┆ 212       ┆ SPD       ┆ … ┆ Lina      ┆ Seitzl    ┆ Frau Präs ┆ [\"(Beifa │\n",
       "│ 5         ┆           ┆           ┆           ┆   ┆           ┆           ┆ identin!  ┆ ll bei   │\n",
       "│           ┆           ┆           ┆           ┆   ┆           ┆           ┆ Liebe     ┆ der SPD  │\n",
       "│           ┆           ┆           ┆           ┆   ┆           ┆           ┆ Kolleg…   ┆ sowie b… │\n",
       "│ 11.02.202 ┆ 20        ┆ 212       ┆ fraktions ┆ … ┆ Thomas    ┆ Seitz     ┆ Sehr      ┆ [\"(Beifa │\n",
       "│ 5         ┆           ┆           ┆ los       ┆   ┆           ┆           ┆ geehrte   ┆ ll bei   │\n",
       "│           ┆           ┆           ┆           ┆   ┆           ┆           ┆ Frau Präs ┆ Abgeordn │\n",
       "│           ┆           ┆           ┆           ┆   ┆           ┆           ┆ identin!… ┆ eten de… │\n",
       "│ 11.02.202 ┆ 20        ┆ 212       ┆ fraktions ┆ … ┆ Stefan    ┆ Seidler   ┆ Vielen    ┆ [\"(Beifa │\n",
       "│ 5         ┆           ┆           ┆ los       ┆   ┆           ┆           ┆ Dank,     ┆ ll bei   │\n",
       "│           ┆           ┆           ┆           ┆   ┆           ┆           ┆ Frau Präs ┆ Abgeordn │\n",
       "│           ┆           ┆           ┆           ┆   ┆           ┆           ┆ identin.… ┆ eten de… │\n",
       "│ 11.02.202 ┆ 20        ┆ 212       ┆ fraktions ┆ … ┆ Robert    ┆ Farle     ┆ Sehr      ┆ [\"(Dr. P │\n",
       "│ 5         ┆           ┆           ┆ los       ┆   ┆           ┆           ┆ geehrte   ┆ aula Pie │\n",
       "│           ┆           ┆           ┆           ┆   ┆           ┆           ┆ Frau Präs ┆ chotta   │\n",
       "│           ┆           ┆           ┆           ┆   ┆           ┆           ┆ identin!… ┆ [BÜNDNI… │\n",
       "│ 11.02.202 ┆ 20        ┆ 212       ┆ SPD       ┆ … ┆ Kevin     ┆ Kühnert   ┆ Frau Präs ┆ [\"(Beifa │\n",
       "│ 5         ┆           ┆           ┆           ┆   ┆           ┆           ┆ identin!  ┆ ll bei   │\n",
       "│           ┆           ┆           ┆           ┆   ┆           ┆           ┆ Liebe     ┆ der SPD, │\n",
       "│           ┆           ┆           ┆           ┆   ┆           ┆           ┆ Kolleg…   ┆ dem BÜ…  │\n",
       "└───────────┴───────────┴───────────┴───────────┴───┴───────────┴───────────┴───────────┴──────────┘"
      ]
     },
     "execution_count": 4,
     "metadata": {},
     "output_type": "execute_result"
    }
   ],
   "source": [
    "df"
   ]
  },
  {
   "cell_type": "code",
   "execution_count": 5,
   "metadata": {},
   "outputs": [
    {
     "data": {
      "text/html": [
       "<div><style>\n",
       ".dataframe > thead > tr,\n",
       ".dataframe > tbody > tr {\n",
       "  text-align: right;\n",
       "  white-space: pre-wrap;\n",
       "}\n",
       "</style>\n",
       "<small>shape: (374_076, 6)</small><table border=\"1\" class=\"dataframe\"><thead><tr><th>firstName</th><th>lastName</th><th>speechContent</th><th>date</th><th>abbreviation</th><th>full_name</th></tr><tr><td>str</td><td>str</td><td>str</td><td>str</td><td>str</td><td>str</td></tr></thead><tbody><tr><td>null</td><td>&quot;adenauer&quot;</td><td>&quot;Ja.\n",
       "&quot;</td><td>&quot;1949-09-15&quot;</td><td>&quot;CDU/CSU&quot;</td><td>&quot;Christlich Demokratische Union…</td></tr><tr><td>null</td><td>&quot;blücher&quot;</td><td>&quot;Herr Präsident, meine Damen un…</td><td>&quot;1949-09-15&quot;</td><td>&quot;FDP&quot;</td><td>&quot;Freie Demokratische Partei&quot;</td></tr><tr><td>null</td><td>&quot;schmid&quot;</td><td>&quot;Meine Damen und Herren, ich ha…</td><td>&quot;1949-09-15&quot;</td><td>&quot;SPD&quot;</td><td>&quot;Sozialdemokratische Partei Deu…</td></tr><tr><td>null</td><td>&quot;renner&quot;</td><td>&quot;Meine Damen und Herren! In der…</td><td>&quot;1949-09-15&quot;</td><td>&quot;KPD&quot;</td><td>&quot;Kommunistische Partei Deutschl…</td></tr><tr><td>null</td><td>&quot;renner&quot;</td><td>&quot;Ich habe wohl das Recht, auf d…</td><td>&quot;1949-09-15&quot;</td><td>&quot;KPD&quot;</td><td>&quot;Kommunistische Partei Deutschl…</td></tr><tr><td>&hellip;</td><td>&hellip;</td><td>&hellip;</td><td>&hellip;</td><td>&hellip;</td><td>&hellip;</td></tr><tr><td>&quot;Helge&quot;</td><td>&quot;Lindh&quot;</td><td>&quot;\n",
       "\n",
       "Frau Präsidentin! Liebe Koll…</td><td>&quot;2021-05-07&quot;</td><td>&quot;SPD&quot;</td><td>&quot;Sozialdemokratische Partei Deu…</td></tr><tr><td>&quot;Helge&quot;</td><td>&quot;Lindh&quot;</td><td>&quot;\n",
       "\n",
       "– weise ich mal darauf hin, …</td><td>&quot;2021-05-07&quot;</td><td>&quot;SPD&quot;</td><td>&quot;Sozialdemokratische Partei Deu…</td></tr><tr><td>&quot;Helge&quot;</td><td>&quot;Lindh&quot;</td><td>&quot;\n",
       "\n",
       "Wie bitte?&quot;</td><td>&quot;2021-05-07&quot;</td><td>&quot;SPD&quot;</td><td>&quot;Sozialdemokratische Partei Deu…</td></tr><tr><td>&quot;Helge&quot;</td><td>&quot;Lindh&quot;</td><td>&quot;\n",
       "\n",
       "Gut, ich beschränke mich auf…</td><td>&quot;2021-05-07&quot;</td><td>&quot;SPD&quot;</td><td>&quot;Sozialdemokratische Partei Deu…</td></tr><tr><td>&quot;Tankred&quot;</td><td>&quot;Schipanski&quot;</td><td>&quot;\n",
       "\n",
       "Vielen Dank. – Frau Präsiden…</td><td>&quot;2021-05-07&quot;</td><td>&quot;CDU/CSU&quot;</td><td>&quot;Christlich Demokratische Union…</td></tr></tbody></table></div>"
      ],
      "text/plain": [
       "shape: (374_076, 6)\n",
       "┌───────────┬────────────┬──────────────────────┬────────────┬──────────────┬──────────────────────┐\n",
       "│ firstName ┆ lastName   ┆ speechContent        ┆ date       ┆ abbreviation ┆ full_name            │\n",
       "│ ---       ┆ ---        ┆ ---                  ┆ ---        ┆ ---          ┆ ---                  │\n",
       "│ str       ┆ str        ┆ str                  ┆ str        ┆ str          ┆ str                  │\n",
       "╞═══════════╪════════════╪══════════════════════╪════════════╪══════════════╪══════════════════════╡\n",
       "│ null      ┆ adenauer   ┆ Ja.                  ┆ 1949-09-15 ┆ CDU/CSU      ┆ Christlich           │\n",
       "│           ┆            ┆                      ┆            ┆              ┆ Demokratische Union… │\n",
       "│ null      ┆ blücher    ┆ Herr Präsident,      ┆ 1949-09-15 ┆ FDP          ┆ Freie Demokratische  │\n",
       "│           ┆            ┆ meine Damen un…      ┆            ┆              ┆ Partei               │\n",
       "│ null      ┆ schmid     ┆ Meine Damen und      ┆ 1949-09-15 ┆ SPD          ┆ Sozialdemokratische  │\n",
       "│           ┆            ┆ Herren, ich ha…      ┆            ┆              ┆ Partei Deu…          │\n",
       "│ null      ┆ renner     ┆ Meine Damen und      ┆ 1949-09-15 ┆ KPD          ┆ Kommunistische       │\n",
       "│           ┆            ┆ Herren! In der…      ┆            ┆              ┆ Partei Deutschl…     │\n",
       "│ null      ┆ renner     ┆ Ich habe wohl das    ┆ 1949-09-15 ┆ KPD          ┆ Kommunistische       │\n",
       "│           ┆            ┆ Recht, auf d…        ┆            ┆              ┆ Partei Deutschl…     │\n",
       "│ …         ┆ …          ┆ …                    ┆ …          ┆ …            ┆ …                    │\n",
       "│ Helge     ┆ Lindh      ┆                      ┆ 2021-05-07 ┆ SPD          ┆ Sozialdemokratische  │\n",
       "│           ┆            ┆                      ┆            ┆              ┆ Partei Deu…          │\n",
       "│           ┆            ┆ Frau Präsidentin!    ┆            ┆              ┆                      │\n",
       "│           ┆            ┆ Liebe Koll…          ┆            ┆              ┆                      │\n",
       "│ Helge     ┆ Lindh      ┆                      ┆ 2021-05-07 ┆ SPD          ┆ Sozialdemokratische  │\n",
       "│           ┆            ┆                      ┆            ┆              ┆ Partei Deu…          │\n",
       "│           ┆            ┆ – weise ich mal      ┆            ┆              ┆                      │\n",
       "│           ┆            ┆ darauf hin, …        ┆            ┆              ┆                      │\n",
       "│ Helge     ┆ Lindh      ┆                      ┆ 2021-05-07 ┆ SPD          ┆ Sozialdemokratische  │\n",
       "│           ┆            ┆                      ┆            ┆              ┆ Partei Deu…          │\n",
       "│           ┆            ┆ Wie bitte?           ┆            ┆              ┆                      │\n",
       "│ Helge     ┆ Lindh      ┆                      ┆ 2021-05-07 ┆ SPD          ┆ Sozialdemokratische  │\n",
       "│           ┆            ┆                      ┆            ┆              ┆ Partei Deu…          │\n",
       "│           ┆            ┆ Gut, ich beschränke  ┆            ┆              ┆                      │\n",
       "│           ┆            ┆ mich auf…            ┆            ┆              ┆                      │\n",
       "│ Tankred   ┆ Schipanski ┆                      ┆ 2021-05-07 ┆ CDU/CSU      ┆ Christlich           │\n",
       "│           ┆            ┆                      ┆            ┆              ┆ Demokratische Union… │\n",
       "│           ┆            ┆ Vielen Dank. – Frau  ┆            ┆              ┆                      │\n",
       "│           ┆            ┆ Präsiden…            ┆            ┆              ┆                      │\n",
       "└───────────┴────────────┴──────────────────────┴────────────┴──────────────┴──────────────────────┘"
      ]
     },
     "execution_count": 5,
     "metadata": {},
     "output_type": "execute_result"
    }
   ],
   "source": [
    "df2"
   ]
  },
  {
   "cell_type": "code",
   "execution_count": 6,
   "metadata": {},
   "outputs": [],
   "source": [
    "df = df.drop([\"WahlperiodenNr\", \"SitzungsNr\", \"Titel\", \"Kommentare\"])"
   ]
  },
  {
   "cell_type": "code",
   "execution_count": 7,
   "metadata": {},
   "outputs": [],
   "source": [
    "df_pd = df.to_pandas()"
   ]
  },
  {
   "cell_type": "code",
   "execution_count": 8,
   "metadata": {},
   "outputs": [
    {
     "name": "stderr",
     "output_type": "stream",
     "text": [
      "C:\\Users\\I569776\\AppData\\Local\\Temp\\ipykernel_40452\\2686536051.py:2: SettingWithCopyWarning: \n",
      "A value is trying to be set on a copy of a slice from a DataFrame.\n",
      "Try using .loc[row_indexer,col_indexer] = value instead\n",
      "\n",
      "See the caveats in the documentation: https://pandas.pydata.org/pandas-docs/stable/user_guide/indexing.html#returning-a-view-versus-a-copy\n",
      "  df_temp[\"Vorname\"] = \"Alexander\"\n",
      "C:\\Users\\I569776\\AppData\\Local\\Temp\\ipykernel_40452\\2686536051.py:3: SettingWithCopyWarning: \n",
      "A value is trying to be set on a copy of a slice from a DataFrame.\n",
      "Try using .loc[row_indexer,col_indexer] = value instead\n",
      "\n",
      "See the caveats in the documentation: https://pandas.pydata.org/pandas-docs/stable/user_guide/indexing.html#returning-a-view-versus-a-copy\n",
      "  df_temp[\"Nachname\"] = \"Föhr\"\n",
      "C:\\Users\\I569776\\AppData\\Local\\Temp\\ipykernel_40452\\2686536051.py:4: SettingWithCopyWarning: \n",
      "A value is trying to be set on a copy of a slice from a DataFrame.\n",
      "Try using .loc[row_indexer,col_indexer] = value instead\n",
      "\n",
      "See the caveats in the documentation: https://pandas.pydata.org/pandas-docs/stable/user_guide/indexing.html#returning-a-view-versus-a-copy\n",
      "  df_temp[\"Fraktion\"] = \"CDU/CSU\"\n"
     ]
    },
    {
     "data": {
      "text/html": [
       "<div>\n",
       "<style scoped>\n",
       "    .dataframe tbody tr th:only-of-type {\n",
       "        vertical-align: middle;\n",
       "    }\n",
       "\n",
       "    .dataframe tbody tr th {\n",
       "        vertical-align: top;\n",
       "    }\n",
       "\n",
       "    .dataframe thead th {\n",
       "        text-align: right;\n",
       "    }\n",
       "</style>\n",
       "<table border=\"1\" class=\"dataframe\">\n",
       "  <thead>\n",
       "    <tr style=\"text-align: right;\">\n",
       "      <th></th>\n",
       "      <th>Datum</th>\n",
       "      <th>Fraktion</th>\n",
       "      <th>Vorname</th>\n",
       "      <th>Nachname</th>\n",
       "      <th>Rede</th>\n",
       "    </tr>\n",
       "  </thead>\n",
       "  <tbody>\n",
       "    <tr>\n",
       "      <th>15564</th>\n",
       "      <td>16.03.2023</td>\n",
       "      <td>CDU/CSU</td>\n",
       "      <td>Alexander</td>\n",
       "      <td>Föhr</td>\n",
       "      <td>\\n\\t\\t\\t\\t\\tVielen Dank für die freundliche Be...</td>\n",
       "    </tr>\n",
       "    <tr>\n",
       "      <th>15921</th>\n",
       "      <td>30.03.2023</td>\n",
       "      <td>CDU/CSU</td>\n",
       "      <td>Alexander</td>\n",
       "      <td>Föhr</td>\n",
       "      <td>Sehr geehrte Frau Präsidentin! Liebe Kolleginn...</td>\n",
       "    </tr>\n",
       "    <tr>\n",
       "      <th>16217</th>\n",
       "      <td>19.04.2023</td>\n",
       "      <td>CDU/CSU</td>\n",
       "      <td>Alexander</td>\n",
       "      <td>Föhr</td>\n",
       "      <td>\\n\\t\\t\\t\\t\\tSehr geehrte Frau Präsidentin! Seh...</td>\n",
       "    </tr>\n",
       "    <tr>\n",
       "      <th>17068</th>\n",
       "      <td>11.05.2023</td>\n",
       "      <td>CDU/CSU</td>\n",
       "      <td>Alexander</td>\n",
       "      <td>Föhr</td>\n",
       "      <td>Sehr geehrte Frau Präsidentin! Sehr geehrte Ko...</td>\n",
       "    </tr>\n",
       "    <tr>\n",
       "      <th>18765</th>\n",
       "      <td>05.07.2023</td>\n",
       "      <td>CDU/CSU</td>\n",
       "      <td>Alexander</td>\n",
       "      <td>Föhr</td>\n",
       "      <td>Herr Präsident! Sehr geehrte Kolleginnen und K...</td>\n",
       "    </tr>\n",
       "    <tr>\n",
       "      <th>19030</th>\n",
       "      <td>07.07.2023</td>\n",
       "      <td>CDU/CSU</td>\n",
       "      <td>Alexander</td>\n",
       "      <td>Föhr</td>\n",
       "      <td>\\n\\t\\t\\t\\t\\tFrau Präsidentin! Liebe Kolleginne...</td>\n",
       "    </tr>\n",
       "  </tbody>\n",
       "</table>\n",
       "</div>"
      ],
      "text/plain": [
       "            Datum Fraktion    Vorname Nachname  \\\n",
       "15564  16.03.2023  CDU/CSU  Alexander     Föhr   \n",
       "15921  30.03.2023  CDU/CSU  Alexander     Föhr   \n",
       "16217  19.04.2023  CDU/CSU  Alexander     Föhr   \n",
       "17068  11.05.2023  CDU/CSU  Alexander     Föhr   \n",
       "18765  05.07.2023  CDU/CSU  Alexander     Föhr   \n",
       "19030  07.07.2023  CDU/CSU  Alexander     Föhr   \n",
       "\n",
       "                                                    Rede  \n",
       "15564  \\n\\t\\t\\t\\t\\tVielen Dank für die freundliche Be...  \n",
       "15921  Sehr geehrte Frau Präsidentin! Liebe Kolleginn...  \n",
       "16217  \\n\\t\\t\\t\\t\\tSehr geehrte Frau Präsidentin! Seh...  \n",
       "17068  Sehr geehrte Frau Präsidentin! Sehr geehrte Ko...  \n",
       "18765  Herr Präsident! Sehr geehrte Kolleginnen und K...  \n",
       "19030  \\n\\t\\t\\t\\t\\tFrau Präsidentin! Liebe Kolleginne...  "
      ]
     },
     "execution_count": 8,
     "metadata": {},
     "output_type": "execute_result"
    }
   ],
   "source": [
    "df_temp = df_pd.loc[df_pd[\"Fraktion\"] == \"SPDCDU/CSU\"]\n",
    "df_temp[\"Vorname\"] = \"Alexander\"\n",
    "df_temp[\"Nachname\"] = \"Föhr\"\n",
    "df_temp[\"Fraktion\"] = \"CDU/CSU\"\n",
    "df_temp"
   ]
  },
  {
   "cell_type": "code",
   "execution_count": 9,
   "metadata": {},
   "outputs": [],
   "source": [
    "df_pd = df_pd.loc[df_pd[\"Fraktion\"] != \"SPDCDU/CSU\"]"
   ]
  },
  {
   "cell_type": "code",
   "execution_count": 10,
   "metadata": {},
   "outputs": [],
   "source": [
    "def bereinigen(el):\n",
    "    if el is None:\n",
    "        return None\n",
    "    return el.replace(\" \", \"\").replace(\"\\n\", \"\").replace(\"\\t\", \"\").upper()"
   ]
  },
  {
   "cell_type": "code",
   "execution_count": 11,
   "metadata": {},
   "outputs": [],
   "source": [
    "df2_partys = set(list(df2[\"abbreviation\"].value_counts()[\"abbreviation\"]))\n",
    "df1_partys = set(list(df_pd[\"Fraktion\"].apply(lambda s: bereinigen(s))))\n",
    "\n"
   ]
  },
  {
   "cell_type": "code",
   "execution_count": 12,
   "metadata": {},
   "outputs": [
    {
     "data": {
      "text/plain": [
       "{'AFD',\n",
       " 'BSW',\n",
       " 'BÜNDNIS\\xa090/DIEGRÜNEN',\n",
       " 'CDU/CSU',\n",
       " 'DIELINKE',\n",
       " 'FDP',\n",
       " 'FRAKTIONSLOS',\n",
       " None,\n",
       " 'SPD'}"
      ]
     },
     "execution_count": 12,
     "metadata": {},
     "output_type": "execute_result"
    }
   ],
   "source": [
    "df1_partys"
   ]
  },
  {
   "cell_type": "code",
   "execution_count": 13,
   "metadata": {},
   "outputs": [],
   "source": [
    "party_translation = {\n",
    "'AFD': 'AfD',\n",
    "'BSW': \"BSW\", # No clear equivalent\n",
    "'BÜNDNIS\\xa090/DIEGRÜNEN': 'Grüne',\n",
    "'CDU/CSU': 'CDU/CSU',\n",
    "'DIELINKE': 'DIE LINKE.',\n",
    "'FDP': 'FDP',\n",
    "'FRAKTIONSLOS': 'Fraktionslos',\n",
    "None: None, # Represents missing or unspecified data\n",
    "'SPD': 'SPD'\n",
    "}\n",
    "\n",
    "df_pd[\"Fraktion\"] = df_pd[\"Fraktion\"].apply(lambda s: bereinigen(s))\n",
    "df_pd[\"Fraktion\"] = df_pd[\"Fraktion\"].apply(lambda s: party_translation[s])"
   ]
  },
  {
   "cell_type": "code",
   "execution_count": 14,
   "metadata": {},
   "outputs": [],
   "source": [
    "df_pd = pd.concat([df_pd, df_temp])\n",
    "df_pd.to_parquet(\"./temp.parquet\")\n",
    "df = pl.read_parquet(\"./temp.parquet\")\n",
    "df = df.drop([\"__index_level_0__\"])"
   ]
  },
  {
   "cell_type": "code",
   "execution_count": 15,
   "metadata": {},
   "outputs": [],
   "source": [
    "rename_dict = {\n",
    "\"Datum\": \"date\",\n",
    "\"Fraktion\": \"abbreviation\",\n",
    "\"Vorname\": \"firstName\",\n",
    "\"Nachname\": \"lastName\",\n",
    "\"Rede\": \"speechContent\"\n",
    "}\n",
    "\n",
    "# Rename the columns\n",
    "df = df.rename(rename_dict)"
   ]
  },
  {
   "cell_type": "code",
   "execution_count": 16,
   "metadata": {},
   "outputs": [],
   "source": [
    "try:\n",
    "    df2 = df2.drop([\"full_name\"])\n",
    "    df = df.drop([\"__index_level_0__\"])\n",
    "except:\n",
    "    pass"
   ]
  },
  {
   "cell_type": "code",
   "execution_count": 17,
   "metadata": {},
   "outputs": [
    {
     "data": {
      "text/plain": [
       "31590"
      ]
     },
     "execution_count": 17,
     "metadata": {},
     "output_type": "execute_result"
    }
   ],
   "source": [
    "len(df)"
   ]
  },
  {
   "cell_type": "code",
   "execution_count": 18,
   "metadata": {},
   "outputs": [
    {
     "data": {
      "text/plain": [
       "374076"
      ]
     },
     "execution_count": 18,
     "metadata": {},
     "output_type": "execute_result"
    }
   ],
   "source": [
    "len(df2)"
   ]
  },
  {
   "cell_type": "code",
   "execution_count": 19,
   "metadata": {},
   "outputs": [],
   "source": [
    "# Sort columns alphabetically\n",
    "sorted_columns = sorted(df.columns) # Get sorted column names\n",
    "df = df.select(sorted_columns) # Reorder columns in DataFrame\n",
    "\n",
    "# Sort columns alphabetically\n",
    "sorted_columns = sorted(df2.columns) # Get sorted column names\n",
    "df2 = df2.select(sorted_columns) # Reorder columns in DataFrame\n"
   ]
  },
  {
   "cell_type": "code",
   "execution_count": 23,
   "metadata": {},
   "outputs": [],
   "source": [
    "df = pl.concat([df,df2]).unique()"
   ]
  },
  {
   "cell_type": "code",
   "execution_count": 24,
   "metadata": {},
   "outputs": [],
   "source": [
    "df.write_parquet(\"./union.parquet\")"
   ]
  }
 ],
 "metadata": {
  "kernelspec": {
   "display_name": "Python 3",
   "language": "python",
   "name": "python3"
  },
  "language_info": {
   "codemirror_mode": {
    "name": "ipython",
    "version": 3
   },
   "file_extension": ".py",
   "mimetype": "text/x-python",
   "name": "python",
   "nbconvert_exporter": "python",
   "pygments_lexer": "ipython3",
   "version": "3.12.9"
  }
 },
 "nbformat": 4,
 "nbformat_minor": 2
}
